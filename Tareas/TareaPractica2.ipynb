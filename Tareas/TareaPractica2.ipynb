{
 "cells": [
  {
   "cell_type": "markdown",
   "metadata": {
    "id": "A6NXhKMA1KuT"
   },
   "source": [
    "<h1 align=\"center\">Física Computacional.</h1>\n",
    "<h1 align=\"center\">Semestre 2024-1</h1>\n",
    "\n",
    "<h2>Alumno: Rivas Moreno Javier </h2>"
   ]
  },
  {
   "cell_type": "markdown",
   "metadata": {
    "id": "yIU07LV21KuW"
   },
   "source": [
    "<h1 align=\"center\">Programación para la física computacional</h1>\n",
    "\n",
    "<h2> Profesor: Sergio A. Alcalá Corona </h2>\n",
    "\n",
    "---\n",
    "### Ayudantes:\n",
    "#### Daniel Rojo Mata\n",
    "#### Rodrigo Vega Vilchis\n",
    "---\n",
    "\n",
    "## Práctica 2.  Programación para la física computacional\n",
    "\n",
    "\n",
    "### Programación básica para la física\n",
    "\n",
    "---"
   ]
  },
  {
   "cell_type": "markdown",
   "metadata": {
    "id": "CR5JcRW11KuX"
   },
   "source": [
    "### EJERCICIOS:"
   ]
  },
  {
   "cell_type": "markdown",
   "metadata": {
    "id": "NnN2aklQ1KuX"
   },
   "source": [
    "**1. Números de Catalan:** \n",
    "\n",
    "Los números de Catalan $C_{n}$ son una secuencia de números enteros 1, 1, 2, 5, 14, 42, 132 que juegan un papel importante en la mecánica cuántica y la teoría de los sistemas desordenados. (Eran fundamentales para la prueba de Eugene Wigner de la llamada ley del semicírculo). Se definen por:\n",
    "\n",
    "<h3 align=\"center\">$ C_{0}=1 $,</h3> \n",
    "\n",
    "<h3 align=\"center\">$ C_{n+1}={4n+2\\over n+2}C_{n} $</h3>\n",
    "\n",
    "Escribe un programa que imprima en orden creciente todos los números de Catalan $C_{n}$ menores o iguales a $1x10^{9}$ (mil millones)."
   ]
  },
  {
   "cell_type": "code",
   "execution_count": 3,
   "metadata": {},
   "outputs": [
    {
     "name": "stdout",
     "output_type": "stream",
     "text": [
      "1\n",
      "1\n",
      "2\n",
      "5\n",
      "14\n",
      "42\n",
      "132\n",
      "429\n",
      "1430\n",
      "4862\n",
      "16796\n",
      "58786\n",
      "208012\n",
      "742900\n",
      "2674440\n",
      "9694845\n",
      "35357670\n",
      "129644790\n",
      "477638700\n"
     ]
    }
   ],
   "source": [
    "# Programa que imprima en orden creciente todos los números de Catalan menores o iguales a mil millones\n",
    "\n",
    "# Definimos la función\n",
    "def catalan(n):\n",
    "    if (n == 0 or n == 1):\n",
    "        return 1\n",
    " \n",
    "    catalan = [0 for i in range(n + 1)]\n",
    " \n",
    "    # Definimos los primeros dos valores conocidos\n",
    "    catalan[0] = 1\n",
    "    catalan[1] = 1\n",
    " \n",
    "    # Uso del for para recursividad\n",
    "    for i in range(2, n + 1):\n",
    "        catalan[i] = 0\n",
    "        for j in range(i):\n",
    "            catalan[i] += catalan[j] * catalan[i-j-1]\n",
    " \n",
    "    # Regresa la última entrada\n",
    "    return catalan[n]\n",
    "\n",
    "# Imprimimos el resultado\n",
    "for i in range(100): # Damos un i lo suficientemente grande para asegurar el pasar el mil millones\n",
    "    if catalan(i)<=1e9: # Condición para que lo números dados sean menores o iguales a mil millones\n",
    "        print(catalan(i))"
   ]
  },
  {
   "cell_type": "code",
   "execution_count": null,
   "metadata": {},
   "outputs": [],
   "source": []
  },
  {
   "cell_type": "markdown",
   "metadata": {
    "id": "rFF8yn8u1KuY"
   },
   "source": [
    "**2. La constante de Madelung**: \n",
    "\n",
    "En física de la materia condensada, la constante de Madelung da el potencial eléctrico total que siente un átomo en un sálido; y depende de las cargas de los otros átomos cercanos y de sus ubicaciones.\n",
    "\n",
    "Por ejemplo, el cristal de cloruro de sodio sólido (la sal de mesa), tiene átomos dispuestos en una red cúbica, con átomos de sodio y cloro alternados, teniendo los de sodio una carga positiva $+e$ y los de cloro una negativa $−e$, (donde e es la carga del electrón). Si etiquetamos cada posición en la red con tres coordenadas enteras $(i, j, k)$, entonces los átomos de sodio caen en posiciones donde $i + j + k$ es par, y los átomos de cloro en\n",
    "posiciones donde $i + j + k$ es impar.\n",
    "\n",
    "Consideremos un átomo de sodio en el origen, i.e. $i = j = k = 0$, y calculemos la constante de Madelung. Si el espaciado de los átomos en la red es a, entonces la distancia desde el origen al átomo en la posicián $(i, j, k)$ es:\n",
    "\n",
    "<h3 align=\"center\">$ \\sqrt{(ia)}=1 $,</h3> \n"
   ]
  },
  {
   "cell_type": "code",
   "execution_count": null,
   "metadata": {},
   "outputs": [],
   "source": []
  },
  {
   "cell_type": "markdown",
   "metadata": {
    "id": "kTLDqh901Kua"
   },
   "source": [
    "**3. Relatividad especial:** Una nave espacial viaja desde la Tierra en línea recta a una velocidad relativista $v$ a otro planeta a $x$ años luz de distancia.\n",
    "\n",
    " Escribe un programa que le pida al usuario el valor de $x$ y la velocidad $v$ como una fracción de la velocidad de la luz $c$, y que imprima el tiempo en años que tarda la nave espacial en llegar a su destino"
   ]
  },
  {
   "cell_type": "markdown",
   "metadata": {
    "id": "pfN8Xarp1Kua"
   },
   "source": [
    "a) en el marco de reposo de un observador en la Tierra y"
   ]
  },
  {
   "cell_type": "code",
   "execution_count": null,
   "metadata": {},
   "outputs": [],
   "source": []
  },
  {
   "cell_type": "markdown",
   "metadata": {
    "id": "5wIScEpv1Kua"
   },
   "source": [
    "b) como lo percibiría un pasajero a bordo de la nave."
   ]
  },
  {
   "cell_type": "markdown",
   "metadata": {
    "id": "nXCj8Mk91Kua"
   },
   "source": [
    "Para el caso del pasajero a bordo de la nave tenemos que el percibirá que el permanece quieto mientras lo demás se mueve, aplicando relatividad especial podemos usar la transformación de Lorentz para la parte temporal \n",
    "\n",
    "<h3 align=\"center\">$ t^\\prime = {t\\over\\sqrt{1-v^2}}-{vx\\over\\sqrt{1-v^2}} $</h3>\n",
    "\n",
    "Donde la t primada será el tiempo a calcular en años luz en el programa, v la velocidad en fracción de la velocidad de la luz c, t el tiempo desde el sistema de la Tierra y x la distancia entre la Tierra y el planeta."
   ]
  },
  {
   "cell_type": "code",
   "execution_count": null,
   "metadata": {},
   "outputs": [],
   "source": []
  },
  {
   "cell_type": "markdown",
   "metadata": {
    "id": "vzcyTRVA1Kua"
   },
   "source": [
    "Usa tu programa para calcular las respuestas para un planeta a 10 años luz de distancia con $v = 0.99c$"
   ]
  },
  {
   "cell_type": "markdown",
   "metadata": {
    "id": "VvpAGnYe1Kub"
   },
   "source": [
    "**4. Órbitas planetarias:** En el espacio, la órbita de un cuerpo alrededor de otro (como un planeta alrededor del Sol), no necesariamente es circular. En general, toma la forma de una elipse, con el cuerpo a veces más cerca y otras más lejos. Si tenemos la distancia $\\ell_1$ de máxima aproximación de un planeta al Sol (su *perihelio*), y su velocidad lineal $v_1$ en el perihelio, entonces cualquier otra propiedad de la órbita se puede calcular a partir de estas dos cantidades de la siguiente manera:"
   ]
  },
  {
   "cell_type": "markdown",
   "metadata": {
    "id": "2Qv68IKm1Kub"
   },
   "source": [
    "   \n",
    "**a)** La segunda ley de Kepler nos dice que la distancia $\\ell_2$ y la velocidad $v_2$ del planeta en su punto más distante, o *afelio*, satisfacen que $\\ell_2 v_2 = \\ell_1 v_1$.  Al mismo tiempo, la energía total, cinética más la gravitatoria, de un planeta con velocidad $v$ y distancia $r$ del Sol está dada por:\n",
    "\n",
    "<h3 align=\"center\">$E = \\frac{1}{2} m v^2 - G {mM\\over r}$,</h3>\n",
    "        \n",
    "donde $m$ es la masa del planeta, $M=1.9891\\times10^{30}\\,$kg es la masa del Sol y $G=6.6738\\times10^{-11}\\,\\mathrm{m^3\\,kg^{-1}\\,s^{-2}}$ es la constante gravitatoria de Newton. Dado que la energía debe conservarse, demuestre que $v_2$ es la raíz más pequeña de la ecuación cuadrática:\n",
    "\n",
    "<h3 align=\"center\">$v_2^2 - {2GM\\over v_1\\ell_1} v_2 - \\biggl[ v_1^2 - {2GM\\over\\ell_1} \\biggr] = 0$.</h3>\n",
    "\n",
    "Una vez que tenemos $v_2$ podemos calcular $\\ell_2$  usando la relación $\\ell_2 = \\ell_1 v_1/v_2$."
   ]
  },
  {
   "cell_type": "code",
   "execution_count": null,
   "metadata": {},
   "outputs": [],
   "source": []
  },
  {
   "cell_type": "markdown",
   "metadata": {
    "id": "DsA0r2NR1Kub"
   },
   "source": [
    "**b)** Dados los valores de $v_1$, $\\ell_1$, y $\\ell_2$; otros parámetros de la órbita se obtienen mediante fórmulas simples que pueden derivarse de las leyes de Kepler y del hecho de que la órbita es una elipse:\n",
    "\n",
    "<h4 align=\"center\">Semieje mayor: $\\; \\; \\; a = \\frac{1}{2}(\\ell_1+\\ell_2)$,</h4>\n",
    "\n",
    "<h4 align=\"center\">Semieje menor: $\\; \\; \\; b = \\sqrt{\\ell_1\\ell_2}$,</h4>\n",
    "\n",
    "<h4 align=\"center\">Período orbital: $\\; \\; \\; T = {2\\pi ab\\over\\ell_1 v_1}$,</h4>\n",
    "\n",
    "<h4 align=\"center\">Excentricidad orbital: $\\; \\; \\; e = {\\ell_2-\\ell_1\\over\\ell_2+\\ell_1}$.</h4>\n",
    "\n",
    "Escribe un programa que le pida al usuario que ingrese la distancia al Sol y la velocidad en el perihelio; para que calcule e imprima las cantidades:\n",
    "\n",
    "$\\ell_2$, $v_2$, $T$ y $e$."
   ]
  },
  {
   "cell_type": "code",
   "execution_count": null,
   "metadata": {},
   "outputs": [],
   "source": []
  },
  {
   "cell_type": "markdown",
   "metadata": {
    "id": "nTo-n6ak1Kub"
   },
   "source": [
    "**c)** Prueba tu programa haciendo que calcule las propiedades de las órbitas de la Tierra (para las cuales $\\ell_1=1.4710\\times10^{11}\\,$m y $v_1=3.0287\\times10^4\\,\\mathrm{m\\,s^{-1}}$)  y del cometa Halley ($\\ell_1=8.7830\\times10^{10}\\,$m y $v_1=5.4529\\times10^4\\,\\mathrm{m\\,s^{-1}}$). Entre otras cosas, deberías encontrar que el período orbital de la Tierra es de un año y el del cometa Halley es de unos 76 años."
   ]
  },
  {
   "cell_type": "code",
   "execution_count": null,
   "metadata": {},
   "outputs": [],
   "source": []
  },
  {
   "cell_type": "markdown",
   "metadata": {
    "id": "t5wxMuPs1Kuc"
   },
   "source": [
    "**5. La fórmula semiempírica de la masa (FSM)**\n",
    "\n",
    "En física nuclear, la **fórmula de Weizsäcker** (conocida también como fórmula semiempírica) sirve para evaluar la masa y otras propiedades de un núcleo atómico; y está basada parcialmente en mediciones empíricas. En particular la fórmula se usa para calcular la **energía de enlace nuclear aproximada** $B$, de un núcleo atómico con número atómico $Z$ y número de masa $A$:\n",
    "\n",
    "<h3 align=\"center\">$B = a_1 A - a_2 A^{2/3} - a_3 {Z^2\\over A^{1/3}} - a_4 {(A - 2Z)^2\\over A} + {a_5\\over A^{1/2}}$,</h3>\n",
    "\n",
    "donde, en unidades de millones de electrón-volts, las constantes son $a_1=15.8$, $a_2=18.3$, $a_3=0.714$, $a_4=23.2$ y          \n",
    "<h6 align=\"center\">\n",
    "$a_5 =\n",
    "  \\left \\{\n",
    "    \\begin{aligned}\n",
    "      0 & \\; \\text{si} \\ A \\; \\text{es impar,} \\\\\n",
    "      12.0 & \\; \\text{si} \\ A \\; \\text{y} \\; Z \\; \\text{son pares (ambos),} \\\\\n",
    "      -12.0 & \\; \\text{si} \\ A \\; \\text{es par y} \\; Z \\; \\text{impar}\n",
    "    \\end{aligned}\n",
    "  \\right.\n",
    "$\n",
    "</h6>"
   ]
  },
  {
   "cell_type": "markdown",
   "metadata": {
    "id": "Sw52OYW41Kuc"
   },
   "source": [
    "**a)** Escribe un programa que tome como entrada los valores de $A$ y $Z$, e imprima la energía de enlace $B$ para el átomo correspondiente. Usa tu programa para encontrar la energía de enlace de un átomo con $A=58$ y $Z=28$ (Hint: La respuesta correcta es alrededor de los $490\\,$MeV)."
   ]
  },
  {
   "cell_type": "markdown",
   "metadata": {
    "id": "6wCYxW2c1Kug"
   },
   "source": [
    "**b)** Modifica el programa del inciso anterior, para escribir una segunda versión que imprima no la energía de enlace total $B$, sino la energía de unión por nucleón, que es $B/A$."
   ]
  },
  {
   "cell_type": "code",
   "execution_count": null,
   "metadata": {
    "id": "65W3tfID1Kug"
   },
   "outputs": [],
   "source": []
  },
  {
   "cell_type": "markdown",
   "metadata": {
    "id": "8GrfAi_y1Kug"
   },
   "source": [
    "**c)** Escribe una tercera versión del programa para que tome como entrada solo un valor del número atómico $Z$ y luego pase por todos los valores de $A$ desde $A=Z$ hasta $A=3Z$, para encontrar el que tiene la mayor energía de enlace por nucleón . Este es el núcleo más estable con el número atómico dado. Haz que tu programa imprima el valor de $A$ para este núcleo más estable y el valor de la energía de enlace por nucleón."
   ]
  },
  {
   "cell_type": "code",
   "execution_count": null,
   "metadata": {
    "id": "mo2Xcx7G1Kug"
   },
   "outputs": [],
   "source": []
  },
  {
   "cell_type": "markdown",
   "metadata": {
    "id": "wKcYJACm1Kug"
   },
   "source": [
    "**d)** Finalmente, escribe una cuarta versión del programa que, en lugar de tomar $Z$ como entrada, se ejecute a través de todos los valores de $Z$ de 1 a 100 e imprima el valor más estable de $A$ para cada uno. ¿A qué valor de $Z$ se produce la energía de enlace máxima por nucleón? (La respuesta correcta, en la vida real, es $Z=28$, que corresponde al Níquel)."
   ]
  },
  {
   "cell_type": "code",
   "execution_count": null,
   "metadata": {},
   "outputs": [],
   "source": []
  }
 ],
 "metadata": {
  "colab": {
   "provenance": []
  },
  "kernelspec": {
   "display_name": "Python 3 (ipykernel)",
   "language": "python",
   "name": "python3"
  },
  "language_info": {
   "codemirror_mode": {
    "name": "ipython",
    "version": 3
   },
   "file_extension": ".py",
   "mimetype": "text/x-python",
   "name": "python",
   "nbconvert_exporter": "python",
   "pygments_lexer": "ipython3",
   "version": "3.9.13"
  }
 },
 "nbformat": 4,
 "nbformat_minor": 1
}
