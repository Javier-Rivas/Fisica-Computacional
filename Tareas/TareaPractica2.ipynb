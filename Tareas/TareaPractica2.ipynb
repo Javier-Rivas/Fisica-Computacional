{
 "cells": [
  {
   "cell_type": "markdown",
   "metadata": {
    "id": "A6NXhKMA1KuT"
   },
   "source": [
    "<h1 align=\"center\">Física Computacional.</h1>\n",
    "<h1 align=\"center\">Semestre 2024-1</h1>\n",
    "\n",
    "<h2>Alumno: Rivas Moreno Javier </h2>"
   ]
  },
  {
   "cell_type": "markdown",
   "metadata": {
    "id": "yIU07LV21KuW"
   },
   "source": [
    "<h1 align=\"center\">Programación para la física computacional</h1>\n",
    "\n",
    "<h2> Profesor: Sergio A. Alcalá Corona </h2>\n",
    "\n",
    "---\n",
    "### Ayudantes:\n",
    "#### Daniel Rojo Mata\n",
    "#### Rodrigo Vega Vilchis\n",
    "---\n",
    "\n",
    "## Práctica 1.  Programación para la física computacional\n",
    "\n",
    "\n",
    "### Programación básica para la física\n",
    "\n",
    "---"
   ]
  },
  {
   "cell_type": "markdown",
   "metadata": {
    "id": "CR5JcRW11KuX"
   },
   "source": [
    "### EJERCICIOS:"
   ]
  },
  {
   "cell_type": "markdown",
   "metadata": {
    "id": "NnN2aklQ1KuX"
   },
   "source": [
    "**1. Caida de una pelota desde una torre:** Se deja caer una pelota desde una torre de altura $h$. Tiene velocidad inicial cero y acelera hacia abajo con la gravedad.\n",
    "\n",
    "Escribe un programa que le pida al usuario que ingrese la altura en metros de la torre y luego calcule e imprima el tiempo en segundos hasta que la pelota toque el suelo (ignora la resistencia del aire).\n",
    "    \n",
    "Después, usa tu programa para calcular el tiempo de una pelota lanzada desde una torre de $100m$ de altura."
   ]
  },
  {
   "cell_type": "code",
   "execution_count": 1,
   "metadata": {
    "id": "uasemHHg1KuX",
    "scrolled": true
   },
   "outputs": [
    {
     "name": "stdout",
     "output_type": "stream",
     "text": [
      "Ingrese la altura de la torre en metros:100\n",
      "Dado un edificio de  100.0 metros de altura, al dejar caer una pelota el tiempo en llegar al suelo será de t =  4.515236409857309 segundos.\n"
     ]
    }
   ],
   "source": [
    "# Programa que pida una altura en metros de una torre e imprima el tiepo en segundos hasta que una pelota toque el suelo\n",
    "import math\n",
    "\n",
    "# Pedimos el valor de la altura\n",
    "h = float(input(\"Ingrese la altura de la torre en metros:\"))\n",
    "\n",
    "# Realizamos el cálculo tomando en cuenta la gravedad de la Tierra\n",
    "g = 9.81\n",
    "t = math.sqrt((2*h)/g)\n",
    "\n",
    "print(\"Dado un edificio de \", h, \"metros de altura, al dejar caer una pelota el tiempo en llegar al suelo será de t = \", t, \"segundos.\")"
   ]
  },
  {
   "cell_type": "code",
   "execution_count": null,
   "metadata": {},
   "outputs": [],
   "source": []
  },
  {
   "cell_type": "markdown",
   "metadata": {
    "id": "NV8pkGP81KuY"
   },
   "source": []
  },
  {
   "cell_type": "markdown",
   "metadata": {
    "id": "rFF8yn8u1KuY"
   },
   "source": [
    "**2. Altitud de un satélite**: se va a lanzar un satélite en una órbita circular alrededor de la Tierra de modo que orbite el planeta una vez cada $T$ segundos."
   ]
  },
  {
   "cell_type": "markdown",
   "metadata": {
    "id": "agNjImfU1KuY"
   },
   "source": [
    "(a) Demuestre que la altitud $h$ sobre la superficie de la Tierra que debe tener el satélite es:\n",
    "\n",
    "<h3 align=\"center\">$h = \\biggl( {GMT^2\\over4\\pi^2} \\biggr)^{1/3} - R$,</h3>\n",
    "\n",
    "donde $G=6.67\\times10^{-11}\\,\\textrm{m}^3\\,\\textrm{kg}^{-1}\\,\\textrm{s}^{-2}$ es la constante gravitatoria de Newton, $M=5.97\\times10^{24}\\,$kg es la masa de la Tierra y $R=6371\\,$km  es su radio.\n",
    "\n"
   ]
  },
  {
   "cell_type": "markdown",
   "metadata": {
    "id": "oMthIXLY1KuZ"
   },
   "source": [
    "**Demostración**\n",
    "\n",
    "Partimos de le ecuación del periodo la cual depende de la distancia d del centro hasta nuestro satélite en este caso y la velocidad de este\n",
    "\n",
    "<h3 align=\"center\">$ T = {2\\pi d\\over v} $,</h3>\n",
    "\n",
    "Además de esto podemos obtener la velocidad \n",
    "\n",
    "<h3 align=\"center\">$ F = {GMm\\over d^2} $,</h3>\n",
    "\n",
    "<h3 align=\"center\">$ F = {p\\over d} = {mv^2\\over d} $,</h3>\n",
    "\n",
    "<h3 align=\"center\">$ {mv^2\\over d} = {GMm\\over d^2} $,</h3>\n",
    "\n",
    "<h3 align=\"center\">$ v = \\sqrt{{GM\\over d}} $,</h3>\n",
    "\n",
    "Sustituyendo\n",
    "\n",
    "<h3 align=\"center\">$ T = {2\\pi d\\over \\sqrt{{GM\\over d}}} $,</h3>\n",
    "\n",
    "Elevamos al cuadrado para quitarnos la raíz entonces nos queda como\n",
    "\n",
    "<h3 align=\"center\">$ T^2 = {4\\pi^2 d^2\\over {GM\\over d}} $,</h3>\n",
    "\n",
    "Despejamos la distancia d quedando como\n",
    "\n",
    "<h3 align=\"center\">$ d^3 = {GMT^2\\over 4\\pi^2} $,</h3>\n",
    "\n",
    "Pero recordemos que la distancia d se esta considerando desde el centro de masa, en este caso el centro de la Tierra, por lo que tenemos que tomar en cuenta el radio de la Tierra y una altu5a h en la que se encuntre\n",
    "\n",
    "<h3 align=\"center\">$ (h+R)^3 = {GMT^2\\over 4\\pi^2} $,</h3>\n",
    "\n",
    "<h3 align=\"center\">$ h+R = \\biggl( {GMT^2\\over 4\\pi^2} \\biggr)^{1/3} $,</h3>\n",
    "\n",
    "Por lo que nos queda como\n",
    "\n",
    "<h3 align=\"center\">$ h = \\biggl( {GMT^2\\over4\\pi^2} \\biggr)^{1/3} - R $,</h3>"
   ]
  },
  {
   "cell_type": "code",
   "execution_count": null,
   "metadata": {},
   "outputs": [],
   "source": []
  },
  {
   "cell_type": "markdown",
   "metadata": {
    "id": "yjzmiPLe1KuZ"
   },
   "source": [
    "(b) Escribe un programa que le pida al usuario que ingrese el valor deseado de $T$ y luego calcula e imprima la altitud correcta en metros."
   ]
  },
  {
   "cell_type": "code",
   "execution_count": 51,
   "metadata": {
    "id": "ckeinSMW1KuZ"
   },
   "outputs": [
    {
     "name": "stdout",
     "output_type": "stream",
     "text": [
      "Ingrese el valor de T:87000\n",
      "Dado el tiempo T dado como 87000.0 segundos, entonces la altura será h = 36051179.55892576 metros.\n"
     ]
    }
   ],
   "source": [
    "# Programa que pida el valor esperado de T y calcule e imorima la altitud en metros\n",
    "from math import pi\n",
    "\n",
    "# Definimos las variable\n",
    "G = (6.67)*(10**(-11))\n",
    "M = (5.97)*(10**(24))\n",
    "R = 6371000 #R ya en metros\n",
    "\n",
    "# Pedimos el valor de T\n",
    "T = float(input(\"Ingrese el valor de T:\"))\n",
    "\n",
    "# Calculamos h\n",
    "h = ((((G*M)*(T**2))/(4*(pi**(2))))**(1/3))-R\n",
    "\n",
    "# Impresión de la altura en metros\n",
    "print(\"Dado el tiempo T dado como\", T, \"segundos, entonces la altura será h =\", h, \"metros.\")"
   ]
  },
  {
   "cell_type": "code",
   "execution_count": null,
   "metadata": {},
   "outputs": [],
   "source": []
  },
  {
   "cell_type": "markdown",
   "metadata": {
    "id": "o0Wx1V7f1KuZ"
   },
   "source": [
    "(c) Utiliza tu programa para calcular las altitudes de los satélites que orbitan la Tierra una vez al día (la llamada órbita *geoestacionaria*), una vez cada **90 minutos** y una vez cada **45 minutos**. ¿Qué concluyes de este último cálculo?"
   ]
  },
  {
   "cell_type": "code",
   "execution_count": 3,
   "metadata": {
    "id": "2MilgT-l1Kua"
   },
   "outputs": [
    {
     "name": "stdout",
     "output_type": "stream",
     "text": [
      "La altitud del satélite que recorre la Tierra una vez cada 90 minutos es h(90) = 279321.62537285965 metros, y la altitud del satélite que recorre la Tierra una vez cada 45 minutos es h(45) = -2181559.8978108233 metros.\n"
     ]
    }
   ],
   "source": [
    "# Programa que para calcular las altitudes de los satélites que orbitan la Tierra una vez al día (la llamada órbita geoestacionaria), una vez cada 90 minutos y una vez cada 45 minutos.\n",
    "from math import pi\n",
    "\n",
    "#Definimos las variable\n",
    "G = (6.67)*(10**(-11))\n",
    "M = (5.97)*(10**(24))\n",
    "R = 6371000 #R ya en metros\n",
    "\n",
    "# Vamos a tomar ya valores conocidos de T, 90 minutos (x) y 45 minutos (y)\n",
    "# Pasamos estos valores a segundos para obtener el resultado en metro\n",
    "\n",
    "x = 90*60\n",
    "y = 45*60\n",
    "\n",
    "# La altura para el caso de 90 minutos será z y para los 45 minutos será w\n",
    "# Calculamos las alturas con la ecuación ya conocida\n",
    "z = ((((G*M)*(x**2))/(4*(pi**(2))))**(1/3))-R\n",
    "w = ((((G*M)*(y**2))/(4*(pi**(2))))**(1/3))-R\n",
    "\n",
    "#Impresión de las alturas en metros\n",
    "print(\"La altitud del satélite que recorre la Tierra una vez cada 90 minutos es h(90) =\", z, \"metros, y la altitud del satélite que recorre la Tierra una vez cada 45 minutos es h(45) =\", w, \"metros.\")"
   ]
  },
  {
   "cell_type": "markdown",
   "metadata": {},
   "source": [
    "Utilizando el código obtenemos que para 90 minutos \n",
    "    h(90)=279321.62537285965 metros\n",
    "y para 45 minutos\n",
    "    h(45)=-2181559.8978108233 metros"
   ]
  },
  {
   "cell_type": "markdown",
   "metadata": {},
   "source": [
    "Se puede notar con este último valor que obtenemos un valor negativo, lo que a partir de la deducción de la fórmula, en específico\n",
    "\n",
    "<h3 align=\"center\">$ d= h+R = \\biggl( {GMT^2\\over 4\\pi^2} \\biggr)^{1/3} $,</h3>\n",
    "\n",
    "Lo que signidfica que con este periodo T=45 minutos tendríamos que estría a una distancia d menor al rádio de la Tierra."
   ]
  },
  {
   "cell_type": "code",
   "execution_count": null,
   "metadata": {},
   "outputs": [],
   "source": []
  },
  {
   "cell_type": "markdown",
   "metadata": {
    "id": "kTLDqh901Kua"
   },
   "source": [
    "**3. Relatividad especial:** Una nave espacial viaja desde la Tierra en línea recta a una velocidad relativista $v$ a otro planeta a $x$ años luz de distancia.\n",
    "\n",
    " Escribe un programa que le pida al usuario el valor de $x$ y la velocidad $v$ como una fracción de la velocidad de la luz $c$, y que imprima el tiempo en años que tarda la nave espacial en llegar a su destino"
   ]
  },
  {
   "cell_type": "markdown",
   "metadata": {
    "id": "pfN8Xarp1Kua"
   },
   "source": [
    "a) en el marco de reposo de un observador en la Tierra y"
   ]
  },
  {
   "cell_type": "code",
   "execution_count": 4,
   "metadata": {
    "id": "fLwQhEyx1Kua",
    "scrolled": true
   },
   "outputs": [
    {
     "name": "stdout",
     "output_type": "stream",
     "text": [
      "Ingresa la distancia entre la Tierra y el planeta destino en años luz x:10\n",
      "Ingresa la velocidad de la nave como fracción de la velocidad de la luz (valor entre 0 y 1) v0.8\n",
      "El tiempo en años que tarda la nave espacial en llegar a su destino en el marco de reposo de un observador en la Tierra ed de t =  12.5 años.\n"
     ]
    }
   ],
   "source": [
    "# Programa que calcule el tiempo en años que tarda la nave en llegar al destino usando un valor de x y v\n",
    "\n",
    "# Definimos las entradas\n",
    "x = float(input(\"Ingresa la distancia entre la Tierra y el planeta destino en años luz x:\"))\n",
    "v = float(input(\"Ingresa la velocidad de la nave como fracción de la velocidad de la luz (valor entre 0 y 1) v\"))\n",
    "\n",
    "# Calculamos el tiempo\n",
    "t = x/v\n",
    "\n",
    "# Imprimimos el resultado\n",
    "print(\"El tiempo en años que tarda la nave espacial en llegar a su destino en el marco de reposo de un observador en la Tierra ed de t = \", t, \"años.\")"
   ]
  },
  {
   "cell_type": "code",
   "execution_count": null,
   "metadata": {},
   "outputs": [],
   "source": []
  },
  {
   "cell_type": "markdown",
   "metadata": {
    "id": "5wIScEpv1Kua"
   },
   "source": [
    "b) como lo percibiría un pasajero a bordo de la nave."
   ]
  },
  {
   "cell_type": "markdown",
   "metadata": {
    "id": "nXCj8Mk91Kua"
   },
   "source": [
    "Para el caso del pasajero a bordo de la nave tenemos que el percibirá que el permanece quieto mientras lo demás se mueve, aplicando relatividad especial podemos usar la transformación de Lorentz para la parte temporal \n",
    "\n",
    "<h3 align=\"center\">$ t^\\prime = {t\\over\\sqrt{1-v^2}}-{vx\\over\\sqrt{1-v^2}} $</h3>\n",
    "\n",
    "Donde la t primada será el tiempo a calcular en años luz en el programa, v la velocidad en fracción de la velocidad de la luz c, t el tiempo desde el sistema de la Tierra y x la distancia entre la Tierra y el planeta."
   ]
  },
  {
   "cell_type": "code",
   "execution_count": 5,
   "metadata": {},
   "outputs": [
    {
     "name": "stdout",
     "output_type": "stream",
     "text": [
      "Ingresa la distancia entre la Tierra y el planeta destino en años luz x:10\n",
      "Ingresa la velocidad de la nave como fracción de la velocidad de la luz (valor entre 0 y 1) v0.99\n",
      "El tiempo en años que tarda la nave espacial en llegar a su destino en el marco de del satronauta en la nave es t =  1.4249228262288653 años.\n"
     ]
    }
   ],
   "source": [
    "# Programa que calcule el tiempo en años que tarda la nave en llegar al destino usando un valor de x y v, percibido por el astronauta\n",
    "import math\n",
    "\n",
    "# Definimos las entradas\n",
    "x = float(input(\"Ingresa la distancia entre la Tierra y el planeta destino en años luz x:\"))\n",
    "v = float(input(\"Ingresa la velocidad de la nave como fracción de la velocidad de la luz (valor entre 0 y 1) v\"))\n",
    "\n",
    "# Calculamos el tiempo desde la tierra\n",
    "t1 = x/v\n",
    "\n",
    "# Usamos la transformación de Lorentz\n",
    "\n",
    "t2 = ((t1/(math.sqrt(1-(v**2))))-((v*x)/(math.sqrt(1-(v**2)))))\n",
    "\n",
    "# Imprimimos el resultado\n",
    "print(\"El tiempo en años que tarda la nave espacial en llegar a su destino en el marco de del astronauta en la nave es t = \", t2, \"años.\")"
   ]
  },
  {
   "cell_type": "code",
   "execution_count": null,
   "metadata": {},
   "outputs": [],
   "source": []
  },
  {
   "cell_type": "markdown",
   "metadata": {
    "id": "vzcyTRVA1Kua"
   },
   "source": [
    "Usa tu programa para calcular las respuestas para un planeta a 10 años luz de distancia con $v = 0.99c$"
   ]
  },
  {
   "cell_type": "code",
   "execution_count": 6,
   "metadata": {
    "id": "xqkn3KMH1Kub"
   },
   "outputs": [
    {
     "name": "stdout",
     "output_type": "stream",
     "text": [
      "El tiempo en años que tarda la nave espacial en llegar a su destino en el marco de reposo de un observador en la Tierra con velocidad de 0.99c y a una distancia de 10 años luz es de t =  10.1010101010101 años.\n"
     ]
    }
   ],
   "source": [
    "# Programa que calcule el tiempo en años que tarda la nave en llegar al destino a 10 años luz de distancia con  𝑣=0.99𝑐\n",
    "\n",
    "# Definimos las entradas\n",
    "x = 10\n",
    "v = 0.99\n",
    "\n",
    "# Calculamos el tiempo\n",
    "t = x/v\n",
    "\n",
    "# Imprimimos el resultado\n",
    "print(\"El tiempo en años que tarda la nave espacial en llegar a su destino en el marco de reposo de un observador en la Tierra con velocidad de 0.99c y a una distancia de 10 años luz es de t = \", t, \"años.\")"
   ]
  },
  {
   "cell_type": "code",
   "execution_count": 7,
   "metadata": {
    "scrolled": true
   },
   "outputs": [
    {
     "name": "stdout",
     "output_type": "stream",
     "text": [
      "El tiempo en años que tarda la nave espacial en llegar a su destino en el marco de del satronauta en la nave con velocidad de 0.99c y a una distancia de 10 años luz es t =  1.4249228262288653 años.\n"
     ]
    }
   ],
   "source": [
    "# Programa que calcule el tiempo en años que tarda la nave en llegar al destino a 10 años luz de distancia con  𝑣=0.99𝑐, percibido por el astronauta\n",
    "import math\n",
    "\n",
    "# Definimos las entradas\n",
    "x = 10\n",
    "v = 0.99\n",
    "\n",
    "# Calculamos el tiempo desde la tierra\n",
    "t1 = x/v\n",
    "\n",
    "# Usamos la transformación de Lorentz\n",
    "\n",
    "t2 = ((t1/(math.sqrt(1-(v**2))))-((v*x)/(math.sqrt(1-(v**2)))))\n",
    "\n",
    "# Imprimimos el resultado\n",
    "print(\"El tiempo en años que tarda la nave espacial en llegar a su destino en el marco de del satronauta en la nave con velocidad de 0.99c y a una distancia de 10 años luz es t = \", t2, \"años.\")"
   ]
  },
  {
   "cell_type": "markdown",
   "metadata": {
    "id": "VvpAGnYe1Kub"
   },
   "source": [
    "**4. Órbitas planetarias:** En el espacio, la órbita de un cuerpo alrededor de otro (como un planeta alrededor del Sol), no necesariamente es circular. En general, toma la forma de una elipse, con el cuerpo a veces más cerca y otras más lejos. Si tenemos la distancia $\\ell_1$ de máxima aproximación de un planeta al Sol (su *perihelio*), y su velocidad lineal $v_1$ en el perihelio, entonces cualquier otra propiedad de la órbita se puede calcular a partir de estas dos cantidades de la siguiente manera:"
   ]
  },
  {
   "cell_type": "markdown",
   "metadata": {
    "id": "2Qv68IKm1Kub"
   },
   "source": [
    "   \n",
    "**a)** La segunda ley de Kepler nos dice que la distancia $\\ell_2$ y la velocidad $v_2$ del planeta en su punto más distante, o *afelio*, satisfacen que $\\ell_2 v_2 = \\ell_1 v_1$.  Al mismo tiempo, la energía total, cinética más la gravitatoria, de un planeta con velocidad $v$ y distancia $r$ del Sol está dada por:\n",
    "\n",
    "<h3 align=\"center\">$E = \\frac{1}{2} m v^2 - G {mM\\over r}$,</h3>\n",
    "        \n",
    "donde $m$ es la masa del planeta, $M=1.9891\\times10^{30}\\,$kg es la masa del Sol y $G=6.6738\\times10^{-11}\\,\\mathrm{m^3\\,kg^{-1}\\,s^{-2}}$ es la constante gravitatoria de Newton. Dado que la energía debe conservarse, demuestre que $v_2$ es la raíz más pequeña de la ecuación cuadrática:\n",
    "\n",
    "<h3 align=\"center\">$v_2^2 - {2GM\\over v_1\\ell_1} v_2 - \\biggl[ v_1^2 - {2GM\\over\\ell_1} \\biggr] = 0$.</h3>\n",
    "\n",
    "Una vez que tenemos $v_2$ podemos calcular $\\ell_2$  usando la relación $\\ell_2 = \\ell_1 v_1/v_2$."
   ]
  },
  {
   "cell_type": "markdown",
   "metadata": {
    "id": "VkBH-uSK1Kub"
   },
   "source": [
    "**Demostración**\n",
    "\n",
    "Partimos de la ecuación de conservación de la energía, ya que se debe de conservar sin importar que nos encontremos en el punto 1 o en el punto 2 tendremos que\n",
    "\n",
    "<h3 align=\"center\">$ E_{1} = E_{2} $</h3>\n",
    "\n",
    "<h3 align=\"center\">$ \\frac{1}{2} m v_{1}^2 - G {mM\\over \\ell_{1}} = \\frac{1}{2} m v_{2}^2 - G {mM\\over \\ell_{2}} $</h3>\n",
    "\n",
    "De aquí multiplicamos por 2 y dividimos entre m toda la ecuación, ya que es la misma masa y el 2 es una constante\n",
    "\n",
    "<h3 align=\"center\">$ v_{1}^2 - 2G {mM\\over m\\ell_{1}} = v_{2}^2 - 2G {mM\\over m\\ell_{2}} $</h3>\n",
    "\n",
    "Cancelando las m, ahora sustituimos $\\ell_2$ usando que\n",
    "\n",
    "<h3 align=\"center\">$ \\ell_2 = {\\ell_1 v_{1}\\over v_{2}} $</h3>\n",
    "\n",
    "tal que\n",
    "\n",
    "<h3 align=\"center\">$ v_{1}^2 - 2G {M\\over \\ell_{1}} = v_{2}^2 - 2G {M v_{2}\\over \\ell_1 v_{1}} $</h3>\n",
    "\n",
    "Igualando a 0 tendremos \n",
    "\n",
    "<h3 align=\"center\">$v_2^2 - {2GM\\over v_1\\ell_1} v_2 -  v_1^2 +{2GM\\over\\ell_1} = 0$.</h3>\n",
    "\n",
    "<h3 align=\"center\">$v_2^2 - {2GM\\over v_1\\ell_1} v_2 - \\biggl[ v_1^2 - {2GM\\over\\ell_1} \\biggr] = 0$.</h3>\n",
    "\n",
    "De donde podemos observar que lo obtenido es una ecuación de segundo grado de la cual podemos obtener el resultado de $v_2$ tal que \n",
    "\n",
    "<h3 align=\"center\">$v_2 = {{{2GM\\over v_1\\ell_1} + \\sqrt{\\biggl( {2GM\\over v_1\\ell_1} \\biggr)^2 + 4v_1^2 - {8GM\\over\\ell_1}} }\\over 2} $.</h3>\n",
    "\n",
    "De donde solo necesitamos valores de $v_1$ y de $\\ell_1$ para obtener el valor de $v_2$, y a partir de este el de $\\ell_2$."
   ]
  },
  {
   "cell_type": "code",
   "execution_count": null,
   "metadata": {},
   "outputs": [],
   "source": []
  },
  {
   "cell_type": "markdown",
   "metadata": {
    "id": "DsA0r2NR1Kub"
   },
   "source": [
    "**b)** Dados los valores de $v_1$, $\\ell_1$, y $\\ell_2$; otros parámetros de la órbita se obtienen mediante fórmulas simples que pueden derivarse de las leyes de Kepler y del hecho de que la órbita es una elipse:\n",
    "\n",
    "<h4 align=\"center\">Semieje mayor: $\\; \\; \\; a = \\frac{1}{2}(\\ell_1+\\ell_2)$,</h4>\n",
    "\n",
    "<h4 align=\"center\">Semieje menor: $\\; \\; \\; b = \\sqrt{\\ell_1\\ell_2}$,</h4>\n",
    "\n",
    "<h4 align=\"center\">Período orbital: $\\; \\; \\; T = {2\\pi ab\\over\\ell_1 v_1}$,</h4>\n",
    "\n",
    "<h4 align=\"center\">Excentricidad orbital: $\\; \\; \\; e = {\\ell_2-\\ell_1\\over\\ell_2+\\ell_1}$.</h4>\n",
    "\n",
    "Escribe un programa que le pida al usuario que ingrese la distancia al Sol y la velocidad en el perihelio; para que calcule e imprima las cantidades:\n",
    "\n",
    "$\\ell_2$, $v_2$, $T$ y $e$."
   ]
  },
  {
   "cell_type": "code",
   "execution_count": 164,
   "metadata": {
    "id": "Ggf17-uN1Kub"
   },
   "outputs": [
    {
     "name": "stdout",
     "output_type": "stream",
     "text": [
      "Ingresa la distancia la distancia al Sol en el perihelio en metros: 148000000000\n",
      "Ingresa la velocidad en el perihelio en m/s: 30\n",
      "Velocidad del planeta en el afelio, v2 = 59796616.75675675 m/s\n",
      "Distancia del planeta en el afelio, l2 = 74251.69250061794 m\n",
      "Periodo orbital del planeta, T = 10977738.272935234 s\n",
      "Excentricidad orbital del planeta, e = -0.9999989965992533\n"
     ]
    }
   ],
   "source": [
    "# Programa que calcule v2, l2, T y e a partir de v1 y l1\n",
    "from math import pi\n",
    "\n",
    "# Definimos las entradas\n",
    "l1 = float(input(\"Ingresa la distancia la distancia al Sol en el perihelio en metros: \"))\n",
    "v1 = float(input(\"Ingresa la velocidad en el perihelio en m/s: \"))\n",
    "G = 6.6738*(10**(-11))\n",
    "M = 1.9891*(10**(30))\n",
    "\n",
    "#Calculamos v2\n",
    "v2 = ((2*G*M)/(v1*l1)) - v1\n",
    "\n",
    "# Usando v2 calculamos l2\n",
    "l2 = (l1*v1)/v2\n",
    "\n",
    "# Calculamos a y b\n",
    "a = (1/2)*(l1+l2)\n",
    "b = ((l1*l2))**(1/2)\n",
    "\n",
    "# Calculamos T\n",
    "T = (2*pi*a*b)/(l1*v1)\n",
    "\n",
    "# Calculamos e\n",
    "e = (l2-l1)/(l2+l1)\n",
    "\n",
    "# Imprimimos los reusltados\n",
    "print(\"Velocidad del planeta en el afelio, v2 =\", v2, \"m/s\")\n",
    "print(\"Distancia del planeta en el afelio, l2 =\", l2, \"m\")\n",
    "print(\"Periodo orbital del planeta, T =\", T, \"s\")\n",
    "print(\"Excentricidad orbital del planeta, e =\", e)\n"
   ]
  },
  {
   "cell_type": "code",
   "execution_count": null,
   "metadata": {},
   "outputs": [],
   "source": []
  },
  {
   "cell_type": "markdown",
   "metadata": {
    "id": "nTo-n6ak1Kub"
   },
   "source": [
    "**c)** Prueba tu programa haciendo que calcule las propiedades de las órbitas de la Tierra (para las cuales $\\ell_1=1.4710\\times10^{11}\\,$m y $v_1=3.0287\\times10^4\\,\\mathrm{m\\,s^{-1}}$)  y del cometa Halley ($\\ell_1=8.7830\\times10^{10}\\,$m y $v_1=5.4529\\times10^4\\,\\mathrm{m\\,s^{-1}}$). Entre otras cosas, deberías encontrar que el período orbital de la Tierra es de un año y el del cometa Halley es de unos 76 años."
   ]
  },
  {
   "cell_type": "code",
   "execution_count": 169,
   "metadata": {
    "id": "sTrGqVdj1Kub",
    "scrolled": true
   },
   "outputs": [
    {
     "name": "stdout",
     "output_type": "stream",
     "text": [
      "Para la Tierra:\n",
      "La velocidad en el afelio, v2 = 29305.3991772613 m/s\n",
      "La distancia de la Tierra en el afelio, l2 = 152027197208.6598 m\n",
      "El periodo orbital de la Tierra, T = 31543060.207886893 s\n",
      "La excentricidad orbital de la Tierra, e = 0.016471913134741688\n",
      "Para el cometa Halley:\n",
      "La velocidad en el afelio, v2 = 906.6806969191457 m/s\n",
      "La distancia del cometa en el afelio, l2 = 5282214660876.463 m\n",
      "El periodo orbital del cometa, T = 2399312511.8452024 s\n",
      "La excentricidad orbital del cometa, e = 0.9672889126454062\n"
     ]
    }
   ],
   "source": [
    "# Programa que calcule v2, l2, T y e a partir de v1 y l1 para la Tierra y el cometa Halley\n",
    "from math import pi\n",
    "\n",
    "# Definimos las variables\n",
    "G = 6.6738*(10**(-11))\n",
    "M = 1.9891*(10**(30))\n",
    "\n",
    "##############################################################################\n",
    "\n",
    "# Para la Tierra\n",
    "lt1 = 1.4710*(10**11)\n",
    "vt1 = 30287\n",
    "\n",
    "#Calculamos v2\n",
    "vt2 = ((2*G*M)/(vt1*lt1)) - vt1\n",
    "\n",
    "# Usando v2 calculamos l2\n",
    "lt2 = (lt1*vt1)/vt2\n",
    "\n",
    "# Calculamos a y b\n",
    "at = (1/2)*(lt1+lt2)\n",
    "bt = ((lt1*lt2))**(1/2)\n",
    "\n",
    "# Calculamos T\n",
    "Tt = (2*pi*at*bt)/(lt1*vt1)\n",
    "\n",
    "# Calculamos e\n",
    "et = (lt2-lt1)/(lt2+lt1)\n",
    "\n",
    "##############################################################################\n",
    "\n",
    "# Para el cometa Halley\n",
    "l1 = 8.7830*(10**10)\n",
    "v1 = 5.4529*(10**4)\n",
    "\n",
    "#Calculamos v2\n",
    "v2 = ((2*G*M)/(v1*l1)) - v1\n",
    "\n",
    "# Usando v2 calculamos l2\n",
    "l2 = (l1*v1)/v2\n",
    "\n",
    "# Calculamos a y b\n",
    "a = (1/2)*(l1+l2)\n",
    "b = ((l1*l2))**(1/2)\n",
    "\n",
    "# Calculamos T\n",
    "T = (2*pi*a*b)/(l1*v1)\n",
    "\n",
    "# Calculamos e\n",
    "e = (l2-l1)/(l2+l1)\n",
    "\n",
    "##############################################################################\n",
    "\n",
    "# Imprimimos los reusltados\n",
    "print(\"Para la Tierra:\") \n",
    "print(\"La velocidad en el afelio, v2 =\", vt2, \"m/s\")\n",
    "print(\"La distancia de la Tierra en el afelio, l2 =\", lt2, \"m\")\n",
    "print(\"El periodo orbital de la Tierra, T =\", Tt, \"s\")\n",
    "print(\"La excentricidad orbital de la Tierra, e =\", et)\n",
    "print(\"Para el cometa Halley:\")\n",
    "print(\"La velocidad en el afelio, v2 =\", v2, \"m/s\")\n",
    "print(\"La distancia del cometa en el afelio, l2 =\", l2, \"m\")\n",
    "print(\"El periodo orbital del cometa, T =\", T, \"s\")\n",
    "print(\"La excentricidad orbital del cometa, e =\", e)"
   ]
  },
  {
   "cell_type": "code",
   "execution_count": null,
   "metadata": {},
   "outputs": [],
   "source": []
  },
  {
   "cell_type": "markdown",
   "metadata": {
    "id": "t5wxMuPs1Kuc"
   },
   "source": [
    "**5. La fórmula semiempírica de la masa (FSM)**\n",
    "\n",
    "En física nuclear, la **fórmula de Weizsäcker** (conocida también como fórmula semiempírica) sirve para evaluar la masa y otras propiedades de un núcleo atómico; y está basada parcialmente en mediciones empíricas. En particular la fórmula se usa para calcular la **energía de enlace nuclear aproximada** $B$, de un núcleo atómico con número atómico $Z$ y número de masa $A$:\n",
    "\n",
    "<h3 align=\"center\">$B = a_1 A - a_2 A^{2/3} - a_3 {Z^2\\over A^{1/3}} - a_4 {(A - 2Z)^2\\over A} + {a_5\\over A^{1/2}}$,</h3>\n",
    "\n",
    "donde, en unidades de millones de electrón-volts, las constantes son $a_1=15.8$, $a_2=18.3$, $a_3=0.714$, $a_4=23.2$ y          \n",
    "<h6 align=\"center\">\n",
    "$a_5 =\n",
    "  \\left \\{\n",
    "    \\begin{aligned}\n",
    "      0 & \\; \\text{si} \\ A \\; \\text{es impar,} \\\\\n",
    "      12.0 & \\; \\text{si} \\ A \\; \\text{y} \\; Z \\; \\text{son pares (ambos),} \\\\\n",
    "      -12.0 & \\; \\text{si} \\ A \\; \\text{es par y} \\; Z \\; \\text{impar}\n",
    "    \\end{aligned}\n",
    "  \\right.\n",
    "$\n",
    "</h6>"
   ]
  },
  {
   "cell_type": "markdown",
   "metadata": {
    "id": "Sw52OYW41Kuc"
   },
   "source": [
    "**a)** Escribe un programa que tome como entrada los valores de $A$ y $Z$, e imprima la energía de enlace $B$ para el átomo correspondiente. Usa tu programa para encontrar la energía de enlace de un átomo con $A=58$ y $Z=28$ (Hint: La respuesta correcta es alrededor de los $490\\,$MeV)."
   ]
  },
  {
   "cell_type": "code",
   "execution_count": 1,
   "metadata": {
    "id": "XCQw84Uq1Kuc"
   },
   "outputs": [
    {
     "name": "stdout",
     "output_type": "stream",
     "text": [
      "Ingresa el número de masa A: 58\n",
      "Ingresa el número atómico Z: 28\n",
      "La energía de enlace nuclear aproximada B = 497.5620206224374 MeV.\n"
     ]
    }
   ],
   "source": [
    "# Programa que tome como entrada los valores de  𝐴 y  𝑍, e imprima la energía de enlace  𝐵\n",
    "\n",
    "# Pedimos los valores de A y Z\n",
    "A = float(input(\"Ingresa el número de masa A: \"))\n",
    "Z = float(input(\"Ingresa el número atómico Z: \"))\n",
    "\n",
    "# Definimos las cosntantes a fijas\n",
    "a1 = 15.8\n",
    "a2 = 18.3\n",
    "a3 = 0.714\n",
    "a4 = 23.2\n",
    "\n",
    "#Ahora definimos el valor de a5\n",
    "if A%2==0 and Z%2==0:\n",
    "    a5 = 12\n",
    "elif A%2==0 and Z%2==1:\n",
    "    a5 = -12\n",
    "elif A%2==1:\n",
    "    a5 = 0\n",
    "\n",
    "# Calculamos B\n",
    "B = (a1*A)-(a2*(A**(2/3)))-(a3*((Z**2)/(A**(1/3))))-(a4*(((A-(2*Z))**2)/A))+(a5/(A**(1/2)))\n",
    "\n",
    "print(\"La energía de enlace nuclear aproximada B =\", B, \"MeV.\")"
   ]
  },
  {
   "cell_type": "markdown",
   "metadata": {
    "id": "6wCYxW2c1Kug"
   },
   "source": [
    "**b)** Modifica el programa del inciso anterior, para escribir una segunda versión que imprima no la energía de enlace total $B$, sino la energía de unión por nucleón, que es $B/A$."
   ]
  },
  {
   "cell_type": "code",
   "execution_count": 12,
   "metadata": {
    "id": "A3S35bKJ1Kug"
   },
   "outputs": [
    {
     "name": "stdout",
     "output_type": "stream",
     "text": [
      "Ingresa el número de masa A: 58\n",
      "Ingresa el número atómico Z: 28\n",
      "La energía de de unión por nucleón, que es 𝐵/𝐴 = 8.578655527973059 MeV.\n"
     ]
    }
   ],
   "source": [
    "# Programa para escribir una segunda versión que imprima la energía de unión por nucleón, que es 𝐵/𝐴\n",
    "\n",
    "# Pedimos los valores de A y Z\n",
    "A = float(input(\"Ingresa el número de masa A: \"))\n",
    "Z = float(input(\"Ingresa el número atómico Z: \"))\n",
    "\n",
    "# Definimos las cosntantes a fijas\n",
    "a1 = 15.8\n",
    "a2 = 18.3\n",
    "a3 = 0.714\n",
    "a4 = 23.2\n",
    "\n",
    "#Ahora definimos el valor de a5\n",
    "if A%2==0 and Z%2==0:\n",
    "    a5 = 12\n",
    "elif A%2==0 and Z%2==1:\n",
    "    a5 = -12\n",
    "elif A%2==1:\n",
    "    a5 = 0\n",
    "\n",
    "# Calculamos B\n",
    "B = (a1*A)-(a2*(A**(2/3)))-(a3*((Z**2)/(A**(1/3))))-(a4*(((A-(2*Z))**2)/A))+(a5/(A**(1/2)))\n",
    "\n",
    "# Ahora solo dividimos entre A el resultado anterior \n",
    "E = B/A\n",
    "\n",
    "print(\"La energía de de unión por nucleón, que es 𝐵/𝐴 =\", E, \"MeV.\")"
   ]
  },
  {
   "cell_type": "code",
   "execution_count": null,
   "metadata": {
    "id": "65W3tfID1Kug"
   },
   "outputs": [],
   "source": []
  },
  {
   "cell_type": "markdown",
   "metadata": {
    "id": "8GrfAi_y1Kug"
   },
   "source": [
    "**c)** Escribe una tercera versión del programa para que tome como entrada solo un valor del número atómico $Z$ y luego pase por todos los valores de $A$ desde $A=Z$ hasta $A=3Z$, para encontrar el que tiene la mayor energía de enlace por nucleón . Este es el núcleo más estable con el número atómico dado. Haz que tu programa imprima el valor de $A$ para este núcleo más estable y el valor de la energía de enlace por nucleón."
   ]
  },
  {
   "cell_type": "code",
   "execution_count": 18,
   "metadata": {
    "id": "mBsDJMJ-1Kug"
   },
   "outputs": [
    {
     "name": "stdout",
     "output_type": "stream",
     "text": [
      "Ingresa el número atómico Z: 28\n",
      "La energía de de unión por nucleón máxima, que es 𝐵/𝐴 = 8.432655535147047 MeV, con A = 56\n"
     ]
    }
   ],
   "source": [
    "# Programa para encontrar a partir de Z el valor de A con mayor energía de enlace por nucleón B/A\n",
    "from numpy import array\n",
    "\n",
    "\n",
    "# Pedimos los valores de Z\n",
    "Z = int(input(\"Ingresa el número atómico Z: \"))\n",
    "\n",
    "# Definimos las cosntantes a fijas\n",
    "a1 = 15.8\n",
    "a2 = 18.3\n",
    "a3 = 0.714\n",
    "a4 = 23.2\n",
    "\n",
    "# Creamos listas vacías para poner los valores de E y A generaods del ciclo for\n",
    "T = []\n",
    "C = []\n",
    "\n",
    "# Usamos el ciclo for además de las mismas especificaciones para obtener el valor de E\n",
    "for n in range(1, 4):\n",
    "    A = n*Z\n",
    "    if A%2==0 and Z%2==0:\n",
    "        a5 = 12\n",
    "    elif A%2==0 and Z%2==1:\n",
    "        a = -12\n",
    "    elif A%2==1:\n",
    "        a5 = 0\n",
    "    B = (a1*A)-(a2*(A**(2/3)))-(a3*((Z**2)/(A**(1/3))))-(a4*(((A-(2*Z))**2)/A))+(a5/(A**(1/2)))\n",
    "    E = B/A\n",
    "    \n",
    "# Agregamos los valores de E y A a las listas\n",
    "    T.append(E)\n",
    "    C.append(A)\n",
    "    \n",
    "# Buscamos el valor máximo de E así como su posición para obtener el valor de la lista de A que coincida con esa posición\n",
    "h = max(T)\n",
    "x = T.index(h)\n",
    "y = C[x]\n",
    "\n",
    "# Imprimimos el resultado\n",
    "print(\"La energía de de unión por nucleón máxima, que es 𝐵/𝐴 =\", h, \"MeV, con A =\", y)"
   ]
  },
  {
   "cell_type": "code",
   "execution_count": null,
   "metadata": {
    "id": "mo2Xcx7G1Kug"
   },
   "outputs": [],
   "source": []
  },
  {
   "cell_type": "markdown",
   "metadata": {
    "id": "wKcYJACm1Kug"
   },
   "source": [
    "**d)** Finalmente, escribe una cuarta versión del programa que, en lugar de tomar $Z$ como entrada, se ejecute a través de todos los valores de $Z$ de 1 a 100 e imprima el valor más estable de $A$ para cada uno. ¿A qué valor de $Z$ se produce la energía de enlace máxima por nucleón? (La respuesta correcta, en la vida real, es $Z=28$, que corresponde al Níquel)."
   ]
  },
  {
   "cell_type": "code",
   "execution_count": 163,
   "metadata": {
    "id": "qLQ-hxhY1Kug"
   },
   "outputs": [
    {
     "name": "stdout",
     "output_type": "stream",
     "text": [
      "Los valores de A con la energía mas estable para cada grupo son 3\n",
      "Los valores de A con la energía mas estable para cada grupo son 4\n",
      "Los valores de A con la energía mas estable para cada grupo son 6\n",
      "Los valores de A con la energía mas estable para cada grupo son 8\n",
      "Los valores de A con la energía mas estable para cada grupo son 10\n",
      "Los valores de A con la energía mas estable para cada grupo son 12\n",
      "Los valores de A con la energía mas estable para cada grupo son 14\n",
      "Los valores de A con la energía mas estable para cada grupo son 16\n",
      "Los valores de A con la energía mas estable para cada grupo son 18\n",
      "Los valores de A con la energía mas estable para cada grupo son 20\n",
      "Los valores de A con la energía mas estable para cada grupo son 22\n",
      "Los valores de A con la energía mas estable para cada grupo son 24\n",
      "Los valores de A con la energía mas estable para cada grupo son 26\n",
      "Los valores de A con la energía mas estable para cada grupo son 28\n",
      "Los valores de A con la energía mas estable para cada grupo son 30\n",
      "Los valores de A con la energía mas estable para cada grupo son 32\n",
      "Los valores de A con la energía mas estable para cada grupo son 34\n",
      "Los valores de A con la energía mas estable para cada grupo son 36\n",
      "Los valores de A con la energía mas estable para cada grupo son 38\n",
      "Los valores de A con la energía mas estable para cada grupo son 40\n",
      "Los valores de A con la energía mas estable para cada grupo son 42\n",
      "Los valores de A con la energía mas estable para cada grupo son 44\n",
      "Los valores de A con la energía mas estable para cada grupo son 46\n",
      "Los valores de A con la energía mas estable para cada grupo son 48\n",
      "Los valores de A con la energía mas estable para cada grupo son 50\n",
      "Los valores de A con la energía mas estable para cada grupo son 52\n",
      "Los valores de A con la energía mas estable para cada grupo son 54\n",
      "Los valores de A con la energía mas estable para cada grupo son 56\n",
      "Los valores de A con la energía mas estable para cada grupo son 58\n",
      "Los valores de A con la energía mas estable para cada grupo son 60\n",
      "Los valores de A con la energía mas estable para cada grupo son 62\n",
      "Los valores de A con la energía mas estable para cada grupo son 64\n",
      "Los valores de A con la energía mas estable para cada grupo son 66\n",
      "Los valores de A con la energía mas estable para cada grupo son 68\n",
      "Los valores de A con la energía mas estable para cada grupo son 70\n",
      "Los valores de A con la energía mas estable para cada grupo son 72\n",
      "Los valores de A con la energía mas estable para cada grupo son 74\n",
      "Los valores de A con la energía mas estable para cada grupo son 76\n",
      "Los valores de A con la energía mas estable para cada grupo son 78\n",
      "Los valores de A con la energía mas estable para cada grupo son 80\n",
      "Los valores de A con la energía mas estable para cada grupo son 82\n",
      "Los valores de A con la energía mas estable para cada grupo son 84\n",
      "Los valores de A con la energía mas estable para cada grupo son 86\n",
      "Los valores de A con la energía mas estable para cada grupo son 88\n",
      "Los valores de A con la energía mas estable para cada grupo son 90\n",
      "Los valores de A con la energía mas estable para cada grupo son 92\n",
      "Los valores de A con la energía mas estable para cada grupo son 94\n",
      "Los valores de A con la energía mas estable para cada grupo son 96\n",
      "Los valores de A con la energía mas estable para cada grupo son 98\n",
      "Los valores de A con la energía mas estable para cada grupo son 100\n",
      "Los valores de A con la energía mas estable para cada grupo son 102\n",
      "Los valores de A con la energía mas estable para cada grupo son 104\n",
      "Los valores de A con la energía mas estable para cada grupo son 106\n",
      "Los valores de A con la energía mas estable para cada grupo son 108\n",
      "Los valores de A con la energía mas estable para cada grupo son 110\n",
      "Los valores de A con la energía mas estable para cada grupo son 112\n",
      "Los valores de A con la energía mas estable para cada grupo son 114\n",
      "Los valores de A con la energía mas estable para cada grupo son 116\n",
      "Los valores de A con la energía mas estable para cada grupo son 118\n",
      "Los valores de A con la energía mas estable para cada grupo son 120\n",
      "Los valores de A con la energía mas estable para cada grupo son 122\n",
      "Los valores de A con la energía mas estable para cada grupo son 124\n",
      "Los valores de A con la energía mas estable para cada grupo son 126\n",
      "Los valores de A con la energía mas estable para cada grupo son 128\n",
      "Los valores de A con la energía mas estable para cada grupo son 130\n",
      "Los valores de A con la energía mas estable para cada grupo son 132\n",
      "Los valores de A con la energía mas estable para cada grupo son 134\n",
      "Los valores de A con la energía mas estable para cada grupo son 136\n",
      "Los valores de A con la energía mas estable para cada grupo son 138\n",
      "Los valores de A con la energía mas estable para cada grupo son 140\n",
      "Los valores de A con la energía mas estable para cada grupo son 142\n",
      "Los valores de A con la energía mas estable para cada grupo son 144\n",
      "Los valores de A con la energía mas estable para cada grupo son 146\n",
      "Los valores de A con la energía mas estable para cada grupo son 148\n",
      "Los valores de A con la energía mas estable para cada grupo son 150\n",
      "Los valores de A con la energía mas estable para cada grupo son 152\n",
      "Los valores de A con la energía mas estable para cada grupo son 231\n",
      "Los valores de A con la energía mas estable para cada grupo son 234\n",
      "Los valores de A con la energía mas estable para cada grupo son 237\n",
      "Los valores de A con la energía mas estable para cada grupo son 240\n",
      "Los valores de A con la energía mas estable para cada grupo son 243\n",
      "Los valores de A con la energía mas estable para cada grupo son 246\n",
      "Los valores de A con la energía mas estable para cada grupo son 249\n",
      "Los valores de A con la energía mas estable para cada grupo son 252\n",
      "Los valores de A con la energía mas estable para cada grupo son 255\n",
      "Los valores de A con la energía mas estable para cada grupo son 258\n",
      "Los valores de A con la energía mas estable para cada grupo son 261\n",
      "Los valores de A con la energía mas estable para cada grupo son 264\n",
      "Los valores de A con la energía mas estable para cada grupo son 267\n",
      "Los valores de A con la energía mas estable para cada grupo son 270\n",
      "Los valores de A con la energía mas estable para cada grupo son 273\n",
      "Los valores de A con la energía mas estable para cada grupo son 276\n",
      "Los valores de A con la energía mas estable para cada grupo son 279\n",
      "Los valores de A con la energía mas estable para cada grupo son 282\n",
      "Los valores de A con la energía mas estable para cada grupo son 285\n",
      "Los valores de A con la energía mas estable para cada grupo son 288\n",
      "Los valores de A con la energía mas estable para cada grupo son 291\n",
      "Los valores de A con la energía mas estable para cada grupo son 294\n",
      "Los valores de A con la energía mas estable para cada grupo son 297\n",
      "Los valores de A con la energía mas estable para cada grupo son 300\n",
      "Energía de enlace máxima por nucleón 24\n"
     ]
    }
   ],
   "source": [
    "# Programa que calcula  el valor más estable de  𝐴 para cada uno\n",
    "\n",
    "import math\n",
    "a1 = 15.8\n",
    "a2 = 18.3\n",
    "a3 = 0.714\n",
    "a4 = 23.2\n",
    "biggerBn = 0.0\n",
    "biggerZ = 0.0\n",
    "for m in list(range(1,101)):\n",
    "    Z = m\n",
    "    bigA = 0.0\n",
    "    bigBn = 0.0\n",
    "    for n in list(range(1,4)):\n",
    "        A = Z*n\n",
    "        if A%2 == 1:\n",
    "            a5 = 0\n",
    "        elif Z%2 == 1:\n",
    "            a5 = -12\n",
    "        else:\n",
    "            a5 = 12\n",
    "        B = a1*A - a2*(A**(2/3)) - a3*((Z**2)/(A**(1/3))) - a4*(((A - 2*Z)**2)/A) + a5*(A**(-1/2))\n",
    "        Bn = B/A\n",
    "        #print(Bn)\n",
    "        if Bn > bigBn:\n",
    "            bigBn = Bn\n",
    "            bigA = A\n",
    "            bigZ = Z\n",
    "        if bigBn > biggerBn:\n",
    "            biggerBn = bigBn\n",
    "            biggerZ = bigZ\n",
    "    print(\"Los valores de A con la energía mas estable para cada grupo son\", bigA)\n",
    "print(\"Energía de enlace máxima por nucleón\", biggerZ)\n",
    "   "
   ]
  },
  {
   "cell_type": "code",
   "execution_count": null,
   "metadata": {},
   "outputs": [],
   "source": []
  }
 ],
 "metadata": {
  "colab": {
   "provenance": []
  },
  "kernelspec": {
   "display_name": "Python 3 (ipykernel)",
   "language": "python",
   "name": "python3"
  },
  "language_info": {
   "codemirror_mode": {
    "name": "ipython",
    "version": 3
   },
   "file_extension": ".py",
   "mimetype": "text/x-python",
   "name": "python",
   "nbconvert_exporter": "python",
   "pygments_lexer": "ipython3",
   "version": "3.11.4"
  }
 },
 "nbformat": 4,
 "nbformat_minor": 1
}
